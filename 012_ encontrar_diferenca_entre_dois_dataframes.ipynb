{
 "cells": [
  {
   "attachments": {},
   "cell_type": "markdown",
   "metadata": {},
   "source": [
    "[Fonte](https://acervolima.com/pandas-encontre-a-diferenca-entre-dois-dataframes/)\n",
    "\n",
    "Neste artigo, discutiremos como comparar dois DataFrames em pandas. Primeiro, vamos criar dois DataFrames."
   ]
  },
  {
   "cell_type": "code",
   "execution_count": null,
   "metadata": {},
   "outputs": [],
   "source": [
    "import pandas as pd\n",
    "  \n",
    "  \n",
    "# first dataframe\n",
    "df1 = pd.DataFrame({\n",
    "    'Age': ['20', '14', '56', '28', '10'],\n",
    "    'Weight': [59, 29, 73, 56, 48]})\n",
    "display(df1)\n",
    "  \n",
    "# second dataframe\n",
    "df2 = pd.DataFrame({\n",
    "    'Age': ['16', '20', '24', '40', '22'],\n",
    "    'Weight': [55, 59, 73, 85, 56]})\n",
    "display(df2)"
   ]
  },
  {
   "attachments": {},
   "cell_type": "markdown",
   "metadata": {},
   "source": [
    "# Verificando se dois dataframes são exatamente iguais\n",
    "\n",
    "Usando a função [equals()](https://pandas.pydata.org/docs/reference/api/pandas.DataFrame.equals.html), podemos verificar diretamente se df1 é igual a df2. Esta função é usada para determinar se dois objetos de dataframe em consideração são iguais ou não. Ao contrário do método dataframe.eq(), o resultado da operação é um valor booleano escalar que indica se os objetos do dataframe são iguais ou não."
   ]
  },
  {
   "cell_type": "code",
   "execution_count": null,
   "metadata": {},
   "outputs": [],
   "source": [
    "df1.equals(df2)"
   ]
  },
  {
   "attachments": {},
   "cell_type": "markdown",
   "metadata": {},
   "source": [
    "Também podemos verificar uma coluna específica."
   ]
  },
  {
   "cell_type": "code",
   "execution_count": null,
   "metadata": {},
   "outputs": [],
   "source": [
    "df2['Age'].equals(df1['Age'])"
   ]
  },
  {
   "attachments": {},
   "cell_type": "markdown",
   "metadata": {},
   "source": [
    "# Encontrar as linhas comuns entre dois DataFrames\n",
    "\n",
    "Podemos usar a função [merge()](https://pandas.pydata.org/docs/reference/api/pandas.DataFrame.merge.html) ou a função [concat()](https://pandas.pydata.org/docs/reference/api/pandas.concat.html). \n",
    "\n",
    "* A função merge() serve como ponto de entrada para todas as operações padrão de junção de banco de dados entre objetos DataFrame. A função de mesclagem é semelhante à junção interna SQL, encontramos as linhas comuns entre dois dataframes. \n",
    "\n",
    "* A função concat() faz todo o trabalho pesado de realizar operações de concatenação junto com um eixo de objetos Pandas enquanto executa a lógica de conjunto opcional (união ou interseção) dos índices (se houver) nos outros eixos."
   ]
  },
  {
   "attachments": {},
   "cell_type": "markdown",
   "metadata": {},
   "source": [
    "Exemplo 1: usando a função de mesclagem"
   ]
  },
  {
   "cell_type": "code",
   "execution_count": null,
   "metadata": {},
   "outputs": [],
   "source": [
    "df = df1.merge(df2, how = 'inner' ,indicator=False)\n",
    "df"
   ]
  },
  {
   "attachments": {},
   "cell_type": "markdown",
   "metadata": {},
   "source": [
    "Exemplo 2: usando a função concat\n",
    "\n",
    "Adicionamos o segundo dataframe (df2) abaixo do primeiro dataframe (df1) usando a função concat. Em seguida, agrupamos o novo dataframe usando colunas e vemos quais linhas têm uma contagem maior que 1. Essas são as linhas comuns. É assim que podemos usar"
   ]
  },
  {
   "cell_type": "code",
   "execution_count": null,
   "metadata": {},
   "outputs": [],
   "source": [
    "df = pd.concat([df1, df2])\n",
    "  \n",
    "df = df.reset_index(drop=True)\n",
    "  \n",
    "df_group = df.groupby(list(df.columns))\n",
    "  \n",
    "idx = [x[0] for x in df_group.groups.values() if len(x) > 1]\n",
    "df.reindex(idx)"
   ]
  },
  {
   "attachments": {},
   "cell_type": "markdown",
   "metadata": {},
   "source": [
    "# Encontrando as linhas incomuns entre dois DataFrames\n",
    "\n",
    "Vimos como podemos obter as linhas comuns entre dois dataframes. Agora, para linhas incomuns, podemos usar a função concat com um parâmetro `drop_duplicate`. "
   ]
  },
  {
   "cell_type": "code",
   "execution_count": null,
   "metadata": {},
   "outputs": [],
   "source": [
    "pd.concat([df1,df2]).drop_duplicates(keep=False)"
   ]
  }
 ],
 "metadata": {
  "kernelspec": {
   "display_name": "venv_pandas",
   "language": "python",
   "name": "python3"
  },
  "language_info": {
   "codemirror_mode": {
    "name": "ipython",
    "version": 3
   },
   "file_extension": ".py",
   "mimetype": "text/x-python",
   "name": "python",
   "nbconvert_exporter": "python",
   "pygments_lexer": "ipython3",
   "version": "3.10.9"
  },
  "orig_nbformat": 4
 },
 "nbformat": 4,
 "nbformat_minor": 2
}
