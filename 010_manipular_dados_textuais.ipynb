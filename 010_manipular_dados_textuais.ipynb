{
 "cells": [
  {
   "cell_type": "code",
   "execution_count": null,
   "metadata": {},
   "outputs": [],
   "source": [
    "import pandas as pd"
   ]
  },
  {
   "attachments": {},
   "cell_type": "markdown",
   "metadata": {},
   "source": [
    "[Fonte](https://pandas.pydata.org/docs/getting_started/intro_tutorials/10_text_data.html)"
   ]
  },
  {
   "cell_type": "code",
   "execution_count": null,
   "metadata": {},
   "outputs": [],
   "source": [
    "titanic = pd.read_csv(\"data/titanic.csv\")\n",
    "titanic.head()"
   ]
  },
  {
   "attachments": {},
   "cell_type": "markdown",
   "metadata": {},
   "source": [
    "Coloque todos os caracteres do nome em minúsculas.\n",
    "\n",
    "Para tornar cada uma das strings da coluna `Name` minúscula, selecione-a (veja o [tutorial sobre seleção de dados](https://pandas.pydata.org/docs/getting_started/intro_tutorials/03_subset_data.html#min-tut-03-subset)), adicione o acessador `str` e aplique o método `lower`. Como tal, cada uma das strings é convertida elemento a elemento."
   ]
  },
  {
   "cell_type": "code",
   "execution_count": null,
   "metadata": {},
   "outputs": [],
   "source": [
    "titanic[\"Name\"].str.lower()"
   ]
  },
  {
   "attachments": {},
   "cell_type": "markdown",
   "metadata": {},
   "source": [
    "Semelhante aos objetos datetime no [tutorial de série temporal](https://pandas.pydata.org/docs/getting_started/intro_tutorials/09_timeseries.html#min-tut-09-timeseries) com um acessador `dt`, vários métodos de string especializados estão disponíveis ao usar o acessador `str`. Esses métodos têm, em geral, nomes correspondentes com os métodos de string integrados equivalentes para elementos únicos, mas são aplicados elemento a elemento (lembra-se dos [cálculos elemento a elemento](https://pandas.pydata.org/docs/getting_started/intro_tutorials/05_add_columns.html#min-tut-05-columns)?) em cada um dos valores das colunas."
   ]
  },
  {
   "attachments": {},
   "cell_type": "markdown",
   "metadata": {},
   "source": [
    "Crie uma nova coluna `Surname` que contenha o sobrenome dos passageiros extraindo a parte antes da vírgula."
   ]
  },
  {
   "cell_type": "code",
   "execution_count": null,
   "metadata": {},
   "outputs": [],
   "source": [
    "titanic[\"Name\"].str.split(\",\")"
   ]
  },
  {
   "attachments": {},
   "cell_type": "markdown",
   "metadata": {},
   "source": [
    "Usando o método `Series.str.split()`, cada um dos valores é retornado como uma lista de 2 elementos. O primeiro elemento é a parte antes da vírgula e o segundo elemento é a parte depois da vírgula.\n",
    "\n",
    "Como estamos interessados ​​apenas na primeira parte que representa o sobrenome (elemento 0), podemos novamente usar o acessador `str` e aplicar `Series.str.get()` para extração da parte relevante. De fato, essas funções de string podem ser concatenadas para combinar várias funções de uma só vez!"
   ]
  },
  {
   "cell_type": "code",
   "execution_count": null,
   "metadata": {},
   "outputs": [],
   "source": [
    "titanic[\"Surname\"] = titanic[\"Name\"].str.split(\",\").str.get(0)\n",
    "\n",
    "titanic[\"Surname\"]"
   ]
  },
  {
   "attachments": {},
   "cell_type": "markdown",
   "metadata": {},
   "source": [
    "> Mais informações sobre a extração de partes de strings estão disponíveis na seção Guia do Usuário sobre a [splitting and replacing strings](https://pandas.pydata.org/docs/user_guide/text.html#text-split)."
   ]
  },
  {
   "attachments": {},
   "cell_type": "markdown",
   "metadata": {},
   "source": [
    "Extraia os dados dos passageiros sobre as condessas a bordo do Titanic."
   ]
  },
  {
   "cell_type": "code",
   "execution_count": null,
   "metadata": {},
   "outputs": [],
   "source": [
    "titanic[\"Name\"].str.contains(\"Countess\")"
   ]
  },
  {
   "cell_type": "code",
   "execution_count": null,
   "metadata": {},
   "outputs": [],
   "source": [
    "titanic[titanic[\"Name\"].str.contains(\"Countess\")]"
   ]
  },
  {
   "attachments": {},
   "cell_type": "markdown",
   "metadata": {},
   "source": [
    "( Interessado na história dela? Veja a [Wikipedia](https://en.wikipedia.org/wiki/No%C3%ABl_Leslie,_Countess_of_Rothes)!)\n",
    "\n",
    "O método string `Series.str.contains()` verifica cada um dos valores na coluna `Name` se a string contém a palavra `Countess` e retorna para cada um dos valores `True` ( `Countess` faz parte do nome) ou `False` (`Countess` não faz parte do nome). Esta saída pode ser usada para subselecionar os dados usando a indexação condicional (booleana) introduzida no [tutorial de subconjunto de dados](https://pandas.pydata.org/docs/getting_started/intro_tutorials/03_subset_data.html#min-tut-03-subset). Como havia apenas uma condessa no Titanic, obtemos uma linha como resultado.\n",
    "\n",
    "> Extrações mais poderosas em strings são suportadas, pois os métodos [`Series.str.contains()`](https://pandas.pydata.org/docs/reference/api/pandas.Series.str.contains.html#pandas.Series.str.contains) e [`Series.str.extract()`](https://pandas.pydata.org/docs/reference/api/pandas.Series.str.extract.html#pandas.Series.str.extract) aceitam [expressões regulares](https://docs.python.org/3/library/re.html), mas fora do escopo deste tutorial.\n",
    "\n",
    "> Mais informações sobre a extração de partes de strings estão disponíveis na seção do guia do usuário sobre [comparação e extração de strings](https://pandas.pydata.org/docs/user_guide/text.html#text-extract)."
   ]
  },
  {
   "attachments": {},
   "cell_type": "markdown",
   "metadata": {},
   "source": [
    "Qual passageiro do Titanic tem o nome mais longo?"
   ]
  },
  {
   "cell_type": "code",
   "execution_count": null,
   "metadata": {},
   "outputs": [],
   "source": [
    "titanic[\"Name\"].str.len()"
   ]
  },
  {
   "attachments": {},
   "cell_type": "markdown",
   "metadata": {},
   "source": [
    "Para obter o nome mais longo, primeiro precisamos obter os comprimentos de cada um dos nomes na coluna `Name`. Ao usar métodos de string pandas, a função [`Series.str.len()`](https://pandas.pydata.org/docs/reference/api/pandas.Series.str.len.html#pandas.Series.str.len) é aplicada a cada um dos nomes individualmente (em termos de elemento)."
   ]
  },
  {
   "cell_type": "code",
   "execution_count": null,
   "metadata": {},
   "outputs": [],
   "source": [
    "titanic[\"Name\"].str.len().idxmax()"
   ]
  },
  {
   "attachments": {},
   "cell_type": "markdown",
   "metadata": {},
   "source": [
    "Em seguida, precisamos obter o local correspondente, preferencialmente o rótulo do índice, na tabela para o qual o tamanho do nome é o maior. O [`idxmax()`](https://pandas.pydata.org/docs/reference/api/pandas.Series.idxmax.html#pandas.Series.idxmax) método faz exatamente isso. Não é um método de string e é aplicado a inteiros, então não é usado `str`.\n",
    "\n",
    "Com base no nome do índice da linha (`307`) e da coluna (`Name`), podemos fazer uma seleção usando o operador `loc`, apresentado no [tutorial sobre subconjunto](https://pandas.pydata.org/docs/getting_started/intro_tutorials/03_subset_data.html#min-tut-03-subset) ."
   ]
  },
  {
   "cell_type": "code",
   "execution_count": null,
   "metadata": {},
   "outputs": [],
   "source": [
    "titanic.loc[titanic[\"Name\"].str.len().idxmax(), \"Name\"]"
   ]
  },
  {
   "attachments": {},
   "cell_type": "markdown",
   "metadata": {},
   "source": [
    "Na coluna “Sexo”, substitua os valores de “masculino” por “M” e os valores de “feminino” por “F”."
   ]
  },
  {
   "cell_type": "code",
   "execution_count": null,
   "metadata": {},
   "outputs": [],
   "source": [
    "titanic[\"Sex_short\"] = titanic[\"Sex\"].replace({\"male\": \"M\", \"female\": \"F\"})\n",
    "\n",
    "titanic[\"Sex_short\"]"
   ]
  },
  {
   "attachments": {},
   "cell_type": "markdown",
   "metadata": {},
   "source": [
    "Considerando que [`replace()`](https://pandas.pydata.org/docs/reference/api/pandas.Series.replace.html#pandas.Series.replace) não é um método de string, ele fornece uma maneira conveniente de usar mapeamentos ou vocabulários para traduzir determinados valores. Requer um `dictionary` para definir o mapeamento `{from : to}`\n",
    "\n",
    "> Há também um método [`replace()`](https://pandas.pydata.org/docs/reference/api/pandas.Series.replace.html#pandas.Series.replace) disponível para substituir um conjunto específico de caracteres. No entanto, ao ter um mapeamento de vários valores, isso se tornaria:\n",
    "\n",
    "```\n",
    "titanic[\"Sex_short\"] = titanic[\"Sex\"].str.replace(\"female\", \"F\")\n",
    "titanic[\"Sex_short\"] = titanic[\"Sex_short\"].str.replace(\"male\", \"M\")\n",
    "```\n",
    "\n",
    "Isso se tornaria complicado e facilmente levaria a erros. Apenas pense (ou tente você mesmo) o que aconteceria se essas duas afirmações fossem aplicadas na ordem oposta…"
   ]
  },
  {
   "attachments": {},
   "cell_type": "markdown",
   "metadata": {},
   "source": [
    "## LEMBRAR\n",
    "\n",
    "* Os métodos de string estão disponíveis usando o acessador `str`.\n",
    "\n",
    "* Os métodos de string funcionam de acordo com os elementos e podem ser usados ​​para indexação condicional.\n",
    "\n",
    "* O método `replace` é um método conveniente para converter valores de acordo com um determinado dicionário.\n",
    "\n",
    "> Uma visão geral completa é fornecida nas páginas do guia do usuário sobre como [trabalhar com dados de texto](https://pandas.pydata.org/docs/user_guide/text.html#text)."
   ]
  }
 ],
 "metadata": {
  "kernelspec": {
   "display_name": "venv_pandas",
   "language": "python",
   "name": "python3"
  },
  "language_info": {
   "codemirror_mode": {
    "name": "ipython",
    "version": 3
   },
   "file_extension": ".py",
   "mimetype": "text/x-python",
   "name": "python",
   "nbconvert_exporter": "python",
   "pygments_lexer": "ipython3",
   "version": "3.10.9"
  },
  "orig_nbformat": 4
 },
 "nbformat": 4,
 "nbformat_minor": 2
}
