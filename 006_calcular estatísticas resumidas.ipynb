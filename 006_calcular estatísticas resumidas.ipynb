{
 "cells": [
  {
   "cell_type": "code",
   "execution_count": null,
   "metadata": {},
   "outputs": [],
   "source": [
    "import pandas as pd"
   ]
  },
  {
   "attachments": {},
   "cell_type": "markdown",
   "metadata": {},
   "source": [
    "[Fonte](https://pandas.pydata.org/docs/getting_started/intro_tutorials/06_calculate_statistics.html)"
   ]
  },
  {
   "cell_type": "code",
   "execution_count": null,
   "metadata": {},
   "outputs": [],
   "source": [
    "titanic = pd.read_csv(\"data/titanic.csv\")\n",
    "\n",
    "titanic.head()"
   ]
  },
  {
   "attachments": {},
   "cell_type": "markdown",
   "metadata": {},
   "source": [
    "Qual é a idade média dos passageiros do Titanic?\n",
    "\n",
    "A estatística aplicada a várias colunas do DataFrame (a seleção de duas colunas retorna o DataFrame, consulte o [tutorial de dados do subconjunto](https://pandas.pydata.org/docs/getting_started/intro_tutorials/01_table_oriented.html#min-tut-01-tableoriented)) é calculada para cada coluna numérica."
   ]
  },
  {
   "cell_type": "code",
   "execution_count": null,
   "metadata": {},
   "outputs": [],
   "source": [
    "titanic[[\"Age\", \"Fare\"]].median()"
   ]
  },
  {
   "attachments": {},
   "cell_type": "markdown",
   "metadata": {},
   "source": [
    "A estatística de agregação pode ser calculada para várias colunas ao mesmo tempo. Lembre da função `describe` do [primeiro tutorial](https://pandas.pydata.org/docs/getting_started/intro_tutorials/01_table_oriented.html#min-tut-01-tableoriented)."
   ]
  },
  {
   "cell_type": "code",
   "execution_count": null,
   "metadata": {},
   "outputs": [],
   "source": [
    "titanic[[\"Age\", \"Fare\"]].describe()"
   ]
  },
  {
   "attachments": {},
   "cell_type": "markdown",
   "metadata": {},
   "source": [
    "Em vez das estatísticas predefinidas, combinações específicas de agregação de estatísticas para determinadas colunas podem ser definidas usando o método [DataFrame.agg()](https://pandas.pydata.org/docs/reference/api/pandas.DataFrame.agg.html#pandas.DataFrame.agg):"
   ]
  },
  {
   "cell_type": "code",
   "execution_count": null,
   "metadata": {},
   "outputs": [],
   "source": [
    "titanic.agg(\n",
    "    {\n",
    "        \"Age\": [\"min\", \"max\", \"median\", \"skew\"],\n",
    "        \"Fare\": [\"min\", \"max\", \"median\", \"mean\"],\n",
    "    }\n",
    ")"
   ]
  },
  {
   "attachments": {},
   "cell_type": "markdown",
   "metadata": {},
   "source": [
    "# Agregando estatísticas agrupadas por categoria\n",
    "\n",
    "Qual é a idade média para passageiros masculinos versus femininos do Titanic?"
   ]
  },
  {
   "cell_type": "code",
   "execution_count": null,
   "metadata": {},
   "outputs": [],
   "source": [
    "titanic[[\"Sex\", \"Age\"]].groupby(\"Sex\").mean()"
   ]
  },
  {
   "cell_type": "code",
   "execution_count": null,
   "metadata": {},
   "outputs": [],
   "source": [
    "titanic[[\"Sex\", \"Age\"]].groupby(\"Sex\").mean()\n",
    "titanic[[\"Age\", \"Fare\"]].describe()"
   ]
  },
  {
   "attachments": {},
   "cell_type": "markdown",
   "metadata": {},
   "source": [
    "> Como nosso interesse é a média de idade para cada sexo, primeiro é feita uma subseleção nestas duas colunas: `titanic[[\"Sex\", \"Age\"]]`. Em seguida, o método `groupby()` é aplicado na coluna `Sex` para fazer um agrupamento por categoria. A idade média para cada gênero é calculada e retornada.\n",
    "\n",
    "Calcular uma determinada estatística (por exemplo, `mean` idade) para cada categoria em uma coluna (por exemplo, masculino/feminino na coluna `Sex`) é um padrão comum. O método `groupby` é usado para suportar este tipo de operações. Isso se encaixa no padrão mais geral [`split-apply-combine`](https://pandas.pydata.org/docs/user_guide/groupby.html#groupby):\n",
    "\n",
    "* **Divida** os dados em grupos\n",
    "\n",
    "* **Aplicar** uma função a cada grupo independentemente\n",
    "\n",
    "* **Combine** os resultados em uma estrutura de dados\n",
    "\n",
    "As etapas de aplicar e combinar normalmente são feitas juntas em pandas.\n"
   ]
  },
  {
   "attachments": {},
   "cell_type": "markdown",
   "metadata": {},
   "source": [
    "No exemplo anterior, selecionamos explicitamente as 2 colunas primeiro. Caso contrário, o método `mean` é aplicado a cada coluna contendo colunas numéricas passando `numeric_only=True`:"
   ]
  },
  {
   "cell_type": "code",
   "execution_count": null,
   "metadata": {},
   "outputs": [],
   "source": [
    "titanic.groupby(\"Sex\").mean(numeric_only=True)"
   ]
  },
  {
   "attachments": {},
   "cell_type": "markdown",
   "metadata": {},
   "source": [
    "A coluna `Pclass` contém dados numéricos, mas na verdade representa 3 categorias (ou fatores) com, respectivamente, os rótulos '1', '2' e '3'. O pandas fornecem um tipo de dados `Categorical` para lidar com esse tipo de dados. Mais informações são fornecidas na seção [Dados categóricos](https://pandas.pydata.org/docs/user_guide/categorical.html#categorical) do guia do usuário .\n",
    "\n",
    "Não faz muito sentido obter o valor médio de `Pclass`. Se estivermos interessados ​​apenas na idade média para cada gênero, a seleção de colunas (colchetes retangulares `[]` como de costume) também é suportada nos dados agrupados:"
   ]
  },
  {
   "cell_type": "code",
   "execution_count": null,
   "metadata": {},
   "outputs": [],
   "source": [
    "titanic.groupby(\"Sex\")[\"Age\"].mean()"
   ]
  },
  {
   "attachments": {},
   "cell_type": "markdown",
   "metadata": {},
   "source": [
    "Qual é o preço médio da passagem para cada uma das combinações de sexo e classe de cabine?\n",
    "\n",
    "O agrupamento pode ser feito por várias colunas ao mesmo tempo. Forneça os nomes das colunas como uma lista para o método `groupby()`.\n",
    "\n",
    "> Uma descrição completa sobre a abordagem dividir-aplicar-combinar é fornecida na seção do guia do usuário sobre operações [groupby](https://pandas.pydata.org/docs/user_guide/groupby.html#groupby)."
   ]
  },
  {
   "cell_type": "code",
   "execution_count": null,
   "metadata": {},
   "outputs": [],
   "source": [
    "titanic.groupby([\"Sex\", \"Pclass\"])[\"Fare\"].mean()"
   ]
  },
  {
   "attachments": {},
   "cell_type": "markdown",
   "metadata": {},
   "source": [
    "# Contar o número de registros por categoria\n",
    "\n",
    "Qual é o número de passageiros em cada uma das classes de cabine?"
   ]
  },
  {
   "cell_type": "code",
   "execution_count": null,
   "metadata": {},
   "outputs": [],
   "source": [
    "titanic[\"Pclass\"].value_counts()"
   ]
  },
  {
   "attachments": {},
   "cell_type": "markdown",
   "metadata": {},
   "source": [
    "O método `value_counts()` conta o número de registros para cada categoria em uma coluna.\n",
    "\n",
    "A função é um atalho, pois na verdade é uma operação groupby em combinação com a contagem do número de registros dentro de cada grupo:"
   ]
  },
  {
   "cell_type": "code",
   "execution_count": null,
   "metadata": {},
   "outputs": [],
   "source": [
    "titanic.groupby(\"Pclass\")[\"Pclass\"].count()"
   ]
  },
  {
   "attachments": {},
   "cell_type": "markdown",
   "metadata": {},
   "source": [
    "> Ambos `size` e `count` podem ser usados ​​em combinação com `groupby`. Considerando que `size` inclui valores `NaN` e fornece apenas o número de linhas (tamanho da tabela), `count` exclui os valores ausentes. No método `value_counts`, use o argumento `dropna` para incluir ou excluir os valores `NaN`.\n",
    "\n",
    "> O guia do usuário possui uma seção dedicada a value_counts, consulte a página sobre [discretização](https://pandas.pydata.org/docs/user_guide/basics.html#basics-discretization).\n"
   ]
  },
  {
   "attachments": {},
   "cell_type": "markdown",
   "metadata": {},
   "source": [
    "# LEMBRAR\n",
    "* As estatísticas de agregação podem ser calculadas em colunas ou linhas inteiras.\n",
    "\n",
    "* `groupby` fornece o poder do padrão split-apply-combine .\n",
    "\n",
    "* `value_counts` é um atalho conveniente para contar o número de entradas em cada categoria de uma variável."
   ]
  }
 ],
 "metadata": {
  "kernelspec": {
   "display_name": "venv_pandas",
   "language": "python",
   "name": "python3"
  },
  "language_info": {
   "codemirror_mode": {
    "name": "ipython",
    "version": 3
   },
   "file_extension": ".py",
   "mimetype": "text/x-python",
   "name": "python",
   "nbconvert_exporter": "python",
   "pygments_lexer": "ipython3",
   "version": "3.10.9"
  },
  "orig_nbformat": 4
 },
 "nbformat": 4,
 "nbformat_minor": 2
}
