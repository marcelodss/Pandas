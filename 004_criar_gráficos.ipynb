{
 "cells": [
  {
   "cell_type": "code",
   "execution_count": null,
   "metadata": {},
   "outputs": [],
   "source": [
    "import pandas as pd\n",
    "\n",
    "import matplotlib.pyplot as plt"
   ]
  },
  {
   "attachments": {},
   "cell_type": "markdown",
   "metadata": {},
   "source": [
    "[Fonte](https://pandas.pydata.org/docs/getting_started/intro_tutorials/04_plotting.html); Veja também: [matplotlib.org](https://matplotlib.org/)"
   ]
  },
  {
   "cell_type": "code",
   "execution_count": null,
   "metadata": {},
   "outputs": [],
   "source": [
    "air_quality = pd.read_csv(\"data/air_quality_no2.csv\", index_col=0, parse_dates=True)\n",
    "air_quality.head()"
   ]
  },
  {
   "attachments": {},
   "cell_type": "markdown",
   "metadata": {},
   "source": [
    "> A utilização dos parâmetros `index_cole` `parse_dates` da função `read_csv` para definir a primeira (0ª) coluna como índice do resultado do DataFrame e converter as datas da coluna em objetos `Timestamp`, respectivamente."
   ]
  },
  {
   "cell_type": "code",
   "execution_count": null,
   "metadata": {},
   "outputs": [],
   "source": [
    "# Eu quero uma verificação visual rápida dos dados\n",
    "# Com um DataFrame, pandas cria por padrão um gráfico de linha para cada uma das colunas com dados numéricos\n",
    "air_quality.plot()\n",
    "plt.show()"
   ]
  },
  {
   "cell_type": "code",
   "execution_count": null,
   "metadata": {},
   "outputs": [],
   "source": [
    "# Quero plotar apenas as colunas da tabela de dados com os dados de Paris.\n",
    "air_quality[\"station_paris\"].plot()\n",
    "plt.show()"
   ]
  },
  {
   "cell_type": "code",
   "execution_count": null,
   "metadata": {},
   "outputs": [],
   "source": [
    "# Eu quero comparar visualmente o valores medidos em Londres versus Paris.\n",
    "air_quality.plot.scatter(x=\"station_london\", y=\"station_paris\", alpha=0.5)\n",
    "plt.show()"
   ]
  },
  {
   "attachments": {},
   "cell_type": "markdown",
   "metadata": {},
   "source": [
    "Além do gráfico `line` padrão ao usar a função `plot`, várias alternativas estão disponíveis para plotar os dados. Vamos usar um pouco de Python padrão para obter uma visão geral dos métodos de plotagem disponíveis:"
   ]
  },
  {
   "cell_type": "code",
   "execution_count": null,
   "metadata": {},
   "outputs": [],
   "source": [
    "[\n",
    "    method_name\n",
    "    for method_name in dir(air_quality.plot)\n",
    "    if not method_name.startswith(\"_\")\n",
    "]"
   ]
  },
  {
   "attachments": {},
   "cell_type": "markdown",
   "metadata": {},
   "source": [
    "> Em muitos ambientes de desenvolvimento, bem como IPython e Jupyter Notebook, use a tecla TAB para obter uma visão geral dos métodos disponíveis, por exemplo `air_quality.plot.`+ TAB.\n",
    "\n",
    "Uma das opções é `DataFrame.plot.box()`, que se refere a um boxplot. O box método é aplicável nos dados de exemplo de qualidade do ar:\n",
    "\n",
    "Para obter uma introdução a plotagens diferentes da plotagem de linha padrão, consulte a seção do guia do usuário sobre os [estilos de plotagem suportados](https://pandas.pydata.org/docs/user_guide/visualization.html#visualization-other)."
   ]
  },
  {
   "cell_type": "code",
   "execution_count": null,
   "metadata": {},
   "outputs": [],
   "source": [
    "air_quality.plot.box()\n",
    "plt.show()"
   ]
  },
  {
   "attachments": {},
   "cell_type": "markdown",
   "metadata": {},
   "source": [
    "Eu quero cada uma das colunas em uma subplot separada.\n",
    "\n",
    "> subplot separadas para cada uma das colunas de dados são suportadas pelo argumento subplots das funções plot. Vale a pena revisar as opções internas disponíveis em cada uma das funções de plotagem do pandas."
   ]
  },
  {
   "cell_type": "code",
   "execution_count": null,
   "metadata": {},
   "outputs": [],
   "source": [
    "axs = air_quality.plot.area(figsize=(12, 4), subplots=True)\n",
    "plt.show()"
   ]
  },
  {
   "attachments": {},
   "cell_type": "markdown",
   "metadata": {},
   "source": [
    "> Mais algumas opções de formatação são explicadas na seção do guia do usuário sobre [formatação de plotagem](https://pandas.pydata.org/docs/user_guide/visualization.html#visualization-formatting)."
   ]
  },
  {
   "attachments": {},
   "cell_type": "markdown",
   "metadata": {},
   "source": [
    "Desejo personalizar, estender ou salvar o gráfico resultante."
   ]
  },
  {
   "cell_type": "code",
   "execution_count": null,
   "metadata": {},
   "outputs": [],
   "source": [
    "fig, axs = plt.subplots(figsize=(12, 4))\n",
    "air_quality.plot.area(ax=axs)\n",
    "axs.set_ylabel(\"NO$_2$ concentration\")\n",
    "fig.savefig(\"no2_concentrations.png\")\n",
    "plt.show()"
   ]
  }
 ],
 "metadata": {
  "kernelspec": {
   "display_name": "venv_pandas",
   "language": "python",
   "name": "python3"
  },
  "language_info": {
   "codemirror_mode": {
    "name": "ipython",
    "version": 3
   },
   "file_extension": ".py",
   "mimetype": "text/x-python",
   "name": "python",
   "nbconvert_exporter": "python",
   "pygments_lexer": "ipython3",
   "version": "3.10.9"
  },
  "orig_nbformat": 4
 },
 "nbformat": 4,
 "nbformat_minor": 2
}
