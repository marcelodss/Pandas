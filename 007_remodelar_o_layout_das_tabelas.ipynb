{
 "cells": [
  {
   "cell_type": "code",
   "execution_count": null,
   "metadata": {},
   "outputs": [],
   "source": [
    "import pandas as pd"
   ]
  },
  {
   "attachments": {},
   "cell_type": "markdown",
   "metadata": {},
   "source": [
    "[Fonte](https://pandas.pydata.org/docs/getting_started/intro_tutorials/07_reshape_table_layout.html#how-to-reshape-the-layout-of-tables)"
   ]
  },
  {
   "cell_type": "code",
   "execution_count": null,
   "metadata": {},
   "outputs": [],
   "source": [
    "titanic = pd.read_csv(\"data/titanic.csv\")\n",
    "titanic.head()"
   ]
  },
  {
   "cell_type": "code",
   "execution_count": null,
   "metadata": {},
   "outputs": [],
   "source": [
    "air_quality = pd.read_csv(\"data/air_quality_long.csv\", index_col=\"date.utc\", parse_dates=True)\n",
    "air_quality.head()"
   ]
  },
  {
   "attachments": {},
   "cell_type": "markdown",
   "metadata": {},
   "source": [
    "## Classificar linhas da tabela\n",
    "\n",
    "Quero classificar os dados do Titanic de acordo com a idade dos passageiros."
   ]
  },
  {
   "cell_type": "code",
   "execution_count": null,
   "metadata": {},
   "outputs": [],
   "source": [
    "titanic.sort_values(by=\"Age\").head()"
   ]
  },
  {
   "attachments": {},
   "cell_type": "markdown",
   "metadata": {},
   "source": [
    "Quero classificar os dados do Titanic de acordo com a classe da cabine e a idade em ordem decrescente."
   ]
  },
  {
   "cell_type": "code",
   "execution_count": null,
   "metadata": {},
   "outputs": [],
   "source": [
    "titanic.sort_values(by=['Pclass', 'Age'], ascending=False).head()\n"
   ]
  },
  {
   "attachments": {},
   "cell_type": "markdown",
   "metadata": {},
   "source": [
    "Com `DataFrame.sort_values()`, as linhas da tabela são classificadas de acordo com a(s) coluna(s) definida(s). O índice seguirá a ordem das linhas.\n",
    "\n",
    "> Mais detalhes sobre classificação de tabelas são fornecidos na seção do guia do usuário sobre [classificação de dados](https://pandas.pydata.org/docs/user_guide/basics.html#basics-sorting)."
   ]
  },
  {
   "attachments": {},
   "cell_type": "markdown",
   "metadata": {},
   "source": [
    "# Formato de tabela longo a largo\n",
    "\n",
    "Vamos usar um pequeno subconjunto do conjunto de dados de qualidade do ar. Nós nos concentramos em \n",
    "***no2*** dados e usar apenas as duas primeiras medições de cada local (ou seja, a cabeça de cada grupo). O subconjunto de dados será chamado no2_subset."
   ]
  },
  {
   "cell_type": "code",
   "execution_count": null,
   "metadata": {},
   "outputs": [],
   "source": [
    "# filtro apenas para dados no2\n",
    "no2 = air_quality[air_quality[\"parameter\"] == \"no2\"]\n",
    "no2"
   ]
  },
  {
   "cell_type": "code",
   "execution_count": null,
   "metadata": {},
   "outputs": [],
   "source": [
    "# Use 2 medidas (head(2)) para cada location (groupby)\n",
    "no2_subset = no2.sort_index().groupby([\"location\"]).head(2)\n",
    "\n",
    "no2_subset"
   ]
  },
  {
   "attachments": {},
   "cell_type": "markdown",
   "metadata": {},
   "source": [
    "Eu quero os valores para as três estações como colunas separadas uma ao lado da outra.\n",
    "\n",
    "> A função [`pivot()`](https://pandas.pydata.org/docs/reference/api/pandas.pivot.html#pandas.pivot) é puramente reformular os dados: é necessário um único valor para cada combinação de índice/coluna."
   ]
  },
  {
   "cell_type": "code",
   "execution_count": null,
   "metadata": {},
   "outputs": [],
   "source": [
    "no2_subset.pivot(columns=\"location\", values=\"value\")"
   ]
  },
  {
   "attachments": {},
   "cell_type": "markdown",
   "metadata": {},
   "source": [
    "Como o pandas suporta a plotagem de várias colunas (consulte o [tutorial de plotagem](https://pandas.pydata.org/docs/getting_started/intro_tutorials/04_plotting.html#min-tut-04-plotting) ) pronto para uso, a conversão do formato de tabela longa para larga permite a plotagem de diferentes séries temporais ao mesmo tempo:"
   ]
  },
  {
   "cell_type": "code",
   "execution_count": null,
   "metadata": {},
   "outputs": [],
   "source": [
    "no2.head()"
   ]
  },
  {
   "cell_type": "code",
   "execution_count": null,
   "metadata": {},
   "outputs": [],
   "source": [
    "no2.pivot(columns=\"location\", values=\"value\").plot()"
   ]
  },
  {
   "attachments": {},
   "cell_type": "markdown",
   "metadata": {},
   "source": [
    "> Quando o parâmetro `index` não é definido, o índice existente (rótulos de linha) é usado.\n",
    "\n",
    "> Para obter mais informações sobre [`pivot()`](https://pandas.pydata.org/docs/reference/api/pandas.DataFrame.pivot.html#pandas.DataFrame.pivot), consulte a seção do guia do usuário sobre [como dinamizar objetos DataFrame](https://pandas.pydata.org/docs/user_guide/reshaping.html#reshaping-reshaping)."
   ]
  },
  {
   "attachments": {},
   "cell_type": "markdown",
   "metadata": {},
   "source": [
    "## Tabela dinâmica\n",
    "\n",
    "Eu quero as concentrações médias para ***NO<sub>2</sub>*** e ***PM<sub>2.5</sub>*** em cada uma das estações em forma de tabela."
   ]
  },
  {
   "cell_type": "code",
   "execution_count": null,
   "metadata": {},
   "outputs": [],
   "source": [
    "air_quality.pivot_table(\n",
    "    values=\"value\", index=\"location\", columns=\"parameter\", aggfunc=\"mean\"\n",
    ")"
   ]
  },
  {
   "attachments": {},
   "cell_type": "markdown",
   "metadata": {},
   "source": [
    "> No caso de `pivot()`, os dados são apenas rearranjados. Quando vários valores precisam ser agregados (neste caso específico, os valores em diferentes etapas de tempo), podem ser usados `pivot_table()`, fornecendo uma função de agregação (por exemplo, média) sobre como combinar esses valores.\n",
    "\n",
    "A tabela dinâmica é um conceito bem conhecido em software de planilhas. Quando estiver interessado nas margens de linha/coluna (**subtotais**) para cada variável, defina o parâmetro `margins` como `True`:"
   ]
  },
  {
   "cell_type": "code",
   "execution_count": null,
   "metadata": {},
   "outputs": [],
   "source": [
    "air_quality.pivot_table(\n",
    "    values=\"value\",\n",
    "    index=\"location\",\n",
    "    columns=\"parameter\",\n",
    "    aggfunc=\"mean\",\n",
    "    margins=True,\n",
    ")"
   ]
  },
  {
   "attachments": {},
   "cell_type": "markdown",
   "metadata": {},
   "source": [
    "> Para obter mais informações sobre [`pivot_table()`](https://pandas.pydata.org/docs/reference/api/pandas.DataFrame.pivot_table.html#pandas.DataFrame.pivot_table), consulte a seção do guia do usuário sobre [tabelas dinâmicas](https://pandas.pydata.org/docs/user_guide/reshaping.html#reshaping-pivot)."
   ]
  },
  {
   "attachments": {},
   "cell_type": "markdown",
   "metadata": {},
   "source": [
    "Caso você esteja se perguntando, [`pivot_table()`](https://pandas.pydata.org/docs/reference/api/pandas.DataFrame.pivot_table.html#pandas.DataFrame.pivot_table) está de fato diretamente vinculado a [`groupby()`](https://pandas.pydata.org/docs/reference/api/pandas.DataFrame.groupby.html#pandas.DataFrame.groupby). O mesmo resultado pode ser derivado agrupando em ambos parametere location:"
   ]
  },
  {
   "cell_type": "code",
   "execution_count": null,
   "metadata": {},
   "outputs": [],
   "source": [
    "air_quality.groupby([\"parameter\", \"location\"]).mean()"
   ]
  },
  {
   "attachments": {},
   "cell_type": "markdown",
   "metadata": {},
   "source": [
    "\n",
    "> Dê uma olhada em [`groupby()`](https://pandas.pydata.org/docs/reference/api/pandas.DataFrame.groupby.html#pandas.DataFrame.groupby) em combinação com [`unstack()`](https://pandas.pydata.org/docs/reference/api/pandas.DataFrame.unstack.html#pandas.DataFrame.unstack) na seção do guia do usuário sobre [como combinar estatísticas e agrupar](https://pandas.pydata.org/docs/user_guide/reshaping.html#reshaping-combine-with-groupby) ."
   ]
  },
  {
   "attachments": {},
   "cell_type": "markdown",
   "metadata": {},
   "source": [
    "## Formato largo a longo\n",
    "\n",
    "Partindo novamente da tabela de grande formato criada na seção anterior, adicionamos um novo índice ao `DataFrame` com [`reset_index()`](https://pandas.pydata.org/docs/reference/api/pandas.DataFrame.reset_index.html#pandas.DataFrame.reset_index)."
   ]
  },
  {
   "cell_type": "code",
   "execution_count": null,
   "metadata": {},
   "outputs": [],
   "source": [
    "no2_pivoted = no2.pivot(columns=\"location\", values=\"value\").reset_index()\n",
    "\n",
    "no2_pivoted.head()"
   ]
  },
  {
   "attachments": {},
   "cell_type": "markdown",
   "metadata": {},
   "source": [
    "Eu quero coletar toda as medições de qualidade do ar ***NO<sub>2</sub>*** em uma única coluna (formato longo).\n",
    "\n",
    "> O método `pandas.melt()` do `DataFrame` converte a tabela de dados de formato largo para formato longo. Os cabeçalhos das colunas tornam-se os nomes das variáveis ​​em uma coluna recém-criada."
   ]
  },
  {
   "cell_type": "code",
   "execution_count": null,
   "metadata": {},
   "outputs": [],
   "source": [
    "no_2 = no2_pivoted.melt(id_vars=\"date.utc\")\n",
    "\n",
    "no_2.head()"
   ]
  },
  {
   "attachments": {},
   "cell_type": "markdown",
   "metadata": {},
   "source": [
    "A solução é a versão curta de como aplicar `pandas.melt()`. O método irá fundir todas as colunas NÃO mencionadas em `id_vars` em duas colunas: Uma coluna com os nomes dos cabeçalhos das colunas e uma coluna com os próprios valores. A última coluna recebe por padrão o nome value.\n",
    "\n",
    "Os parâmetros passados `pandas.melt()` ​​podem ser definidos com mais detalhes:"
   ]
  },
  {
   "cell_type": "code",
   "execution_count": null,
   "metadata": {},
   "outputs": [],
   "source": [
    "no_2 = no2_pivoted.melt(\n",
    "    id_vars=\"date.utc\",\n",
    "    value_vars=[\"BETR801\", \"FR04014\", \"London Westminster\"],\n",
    "    value_name=\"NO_2\",\n",
    "    var_name=\"id_location\",\n",
    ")\n",
    "\n",
    "no_2.head()"
   ]
  },
  {
   "attachments": {},
   "cell_type": "markdown",
   "metadata": {},
   "source": [
    "Os parâmetros adicionais têm os seguintes efeitos:\n",
    "\n",
    "* `value_vars` define quais colunas devem ser fundidas\n",
    "\n",
    "* `value_name` fornece um nome de coluna personalizado para a coluna de valores em vez do nome da coluna padrão `value`\n",
    "\n",
    "* `var_name` fornece um nome de coluna personalizado para a coluna que coleta os nomes de cabeçalho de coluna. Caso contrário, leva o nome do índice ou um padrão `variable`\n",
    "\n",
    "Portanto, os argumentos `value_name` e `var_name` são apenas nomes definidos pelo usuário para as duas colunas geradas. As colunas a serem fundidas são definidas por `id_vars` e `value_vars`.\n",
    "\n",
    "> A conversão do formato largo para o formato longo com `andas.melt()` é explicada na seção do guia do usuário sobre [remodelação por melt](https://pandas.pydata.org/docs/user_guide/reshaping.html#reshaping-melt) ."
   ]
  },
  {
   "attachments": {},
   "cell_type": "markdown",
   "metadata": {},
   "source": [
    "## LEMBRAR\n",
    "\n",
    "* A classificação por uma ou mais colunas é suportada por `sort_values`.\n",
    "\n",
    "* A função `pivot` é puramente reestruturação dos dados, `pivot_table` suporta agregações.\n",
    "\n",
    "* O inverso de `pivot` (formato longo para largo) é `melt` (formato largo para longo)."
   ]
  }
 ],
 "metadata": {
  "kernelspec": {
   "display_name": "venv_pandas",
   "language": "python",
   "name": "python3"
  },
  "language_info": {
   "codemirror_mode": {
    "name": "ipython",
    "version": 3
   },
   "file_extension": ".py",
   "mimetype": "text/x-python",
   "name": "python",
   "nbconvert_exporter": "python",
   "pygments_lexer": "ipython3",
   "version": "3.10.9"
  },
  "orig_nbformat": 4
 },
 "nbformat": 4,
 "nbformat_minor": 2
}
