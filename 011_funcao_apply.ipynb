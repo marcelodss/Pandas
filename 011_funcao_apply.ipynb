{
 "cells": [
  {
   "attachments": {},
   "cell_type": "markdown",
   "metadata": {},
   "source": [
    "[Fonte](https://www.digitalocean.com/community/tutorials/pandas-dataframe-apply-examples)\n",
    "\n",
    "A função Pandas DataFrame apply() é usada para aplicar uma função ao longo de um eixo do DataFrame. Veja mais em [pandas.DataFrame.apply](https://pandas.pydata.org/docs/reference/api/pandas.DataFrame.apply.html#pandas-dataframe-apply)\n",
    "\n",
    "Os parâmetros importantes são:\n",
    "\n",
    "**func** : A função a ser aplicada a cada linha ou coluna do DataFrame.\n",
    "\n",
    "**axis** : eixo ao longo do qual a função é aplicada. Os valores possíveis são {0 ou 'índice', 1 ou 'colunas'}, padrão 0.\n",
    "\n",
    "**args** : Os argumentos posicionais a serem passados ​​para a função. Isso é útil quando temos que passar argumentos adicionais para a função.\n",
    "\n",
    "**kwargs** : argumentos de palavra-chave adicionais para passar para a função. Isso é útil quando temos que passar argumentos de palavra-chave adicionais para a função.\n",
    "\n",
    "> [Mais exemplos](https://sparkbyexamples.com/pandas/pandas-apply-function-usage-examples/#:~:text=Pandas%20Apply%20Function%20to%20Single%20Column&text=To%20apply%20it%20to%20a,function%20to%20a%20column%20B%20.&text=Copy-,Yields%20below%20output.,DataFrame%20for%20a%20specified%20column.)"
   ]
  },
  {
   "attachments": {},
   "cell_type": "markdown",
   "metadata": {},
   "source": [
    "1. Aplicando uma função aos elementos DataFrame\n",
    "\n",
    "O DataFrame no qual a função apply() é chamada permanece inalterado. A função apply() retorna um novo objeto DataFrame após aplicar a função a seus elementos."
   ]
  },
  {
   "cell_type": "code",
   "execution_count": null,
   "metadata": {},
   "outputs": [],
   "source": [
    "import pandas as pd\n",
    "\n",
    "def square(x):\n",
    "    return x * x\n",
    "\n",
    "df = pd.DataFrame({'A': [1, 2], 'B': [10, 20]})\n",
    "df1 = df.apply(square)\n",
    "\n",
    "print(df)\n",
    "print(df1)"
   ]
  },
  {
   "attachments": {},
   "cell_type": "markdown",
   "metadata": {},
   "source": [
    "2. apply () com lambda\n",
    "\n",
    "Se você observar o exemplo acima, nossa função square() é muito simples. Podemos convertê-lo facilmente em uma função lambda. Podemos criar uma função lambda ao chamar a função apply().\n",
    "\n",
    "A saída permanecerá a mesma do último exemplo."
   ]
  },
  {
   "cell_type": "code",
   "execution_count": null,
   "metadata": {},
   "outputs": [],
   "source": [
    "df1 = df.apply(lambda x: x * x)\n",
    "print(df1)"
   ]
  },
  {
   "attachments": {},
   "cell_type": "markdown",
   "metadata": {},
   "source": [
    "3. apply() ao longo do eixo\n",
    "\n",
    "Podemos aplicar uma função ao longo do eixo. Mas, no último exemplo, não há uso do eixo. A função está sendo aplicada a todos os elementos do DataFrame. O uso de axis fica claro quando chamamos uma função agregada nas linhas ou colunas do DataFrame. Digamos que queremos obter a soma dos elementos ao longo das colunas ou índices. A saída será diferente com base no valor do argumento do eixo.\n",
    "\n",
    "No primeiro exemplo, a soma dos elementos ao longo da coluna é calculada. Já no segundo exemplo, a soma dos elementos ao longo da linha é calculada."
   ]
  },
  {
   "cell_type": "code",
   "execution_count": null,
   "metadata": {},
   "outputs": [],
   "source": [
    "import pandas as pd\n",
    "import numpy as np\n",
    "\n",
    "df = pd.DataFrame({'A': [1, 2], 'B': [10, 20]})\n",
    "\n",
    "df1 = df.apply(np.sum, axis=0)\n",
    "print(df1)\n",
    "\n",
    "df1 = df.apply(np.sum, axis=1)\n",
    "print(df1)"
   ]
  },
  {
   "attachments": {},
   "cell_type": "markdown",
   "metadata": {},
   "source": [
    "4. DataFrame apply() com argumentos\n",
    "\n",
    "Digamos que queremos aplicar uma função que aceite mais de um parâmetro. Nesse caso, podemos passar os parâmetros adicionais usando o argumento 'args'."
   ]
  },
  {
   "cell_type": "code",
   "execution_count": null,
   "metadata": {},
   "outputs": [],
   "source": [
    "import pandas as pd\n",
    "\n",
    "def sum(x, y, z):\n",
    "    return x + y + z\n",
    "\n",
    "df = pd.DataFrame({'A': [1, 2], 'B': [10, 20]})\n",
    "\n",
    "df1 = df.apply(sum, args=(1, 2))\n",
    "print(df1)"
   ]
  },
  {
   "attachments": {},
   "cell_type": "markdown",
   "metadata": {},
   "source": [
    "5. DataFrame apply() com argumentos posicionais e palavras-chave\n",
    "\n",
    "Vejamos um exemplo em que usaremos os parâmetros 'args' e 'kwargs' para passar argumentos posicionais e palavras-chave para a função."
   ]
  },
  {
   "cell_type": "code",
   "execution_count": null,
   "metadata": {},
   "outputs": [],
   "source": [
    "import pandas as pd\n",
    "\n",
    "def sum(x, y, z, m):\n",
    "    return (x + y + z) * m\n",
    "\n",
    "\n",
    "df = pd.DataFrame({'A': [1, 2], 'B': [10, 20]})\n",
    "\n",
    "df1 = df.apply(sum, args=(1, 2), m=10)\n",
    "print(df1)"
   ]
  },
  {
   "attachments": {},
   "cell_type": "markdown",
   "metadata": {},
   "source": [
    "Função DataFrame applymap ()\n",
    "\n",
    "Se você deseja aplicar uma função elemento a elemento, pode usar a função applymap(). Esta função não possui argumentos adicionais. A função é aplicada a cada um dos elementos e o valor retornado é usado para criar o objeto DataFrame resultante."
   ]
  },
  {
   "cell_type": "code",
   "execution_count": null,
   "metadata": {},
   "outputs": [],
   "source": [
    "import pandas as pd\n",
    "import math\n",
    "\n",
    "df = pd.DataFrame({'A': [1, 4], 'B': [100, 400]})\n",
    "df1 = df.applymap(math.sqrt)\n",
    "\n",
    "print(df)\n",
    "print(df1)"
   ]
  },
  {
   "attachments": {},
   "cell_type": "markdown",
   "metadata": {},
   "source": [
    "Vejamos outro exemplo em que usaremos a função applymap() para converter todos os valores dos elementos para letras maiúsculas."
   ]
  },
  {
   "cell_type": "code",
   "execution_count": null,
   "metadata": {},
   "outputs": [],
   "source": [
    "import pandas as pd\n",
    "\n",
    "df = pd.DataFrame({'Name': ['Pankaj', 'Meghna'], 'Role': ['ceo', 'cto']})\n",
    "\n",
    "df1 = df.applymap(str.upper)\n",
    "\n",
    "print(df)\n",
    "print(df1)"
   ]
  }
 ],
 "metadata": {
  "kernelspec": {
   "display_name": "venv_pandas",
   "language": "python",
   "name": "python3"
  },
  "language_info": {
   "codemirror_mode": {
    "name": "ipython",
    "version": 3
   },
   "file_extension": ".py",
   "mimetype": "text/x-python",
   "name": "python",
   "nbconvert_exporter": "python",
   "pygments_lexer": "ipython3",
   "version": "3.10.9"
  },
  "orig_nbformat": 4
 },
 "nbformat": 4,
 "nbformat_minor": 2
}
