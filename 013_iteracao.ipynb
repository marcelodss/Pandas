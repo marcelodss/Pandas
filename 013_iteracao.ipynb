{
 "cells": [
  {
   "attachments": {},
   "cell_type": "markdown",
   "metadata": {},
   "source": [
    "[Fonte](https://www.tutorialspoint.com/python_pandas/python_pandas_iteration.htm)\n",
    "\n",
    "O comportamento da iteração básica sobre objetos Pandas depende do tipo. Ao iterar sobre uma série, ela é considerada semelhante a uma matriz e a iteração básica produz os valores. Outras estruturas de dados, como DataFrame e Panel, seguem a convenção semelhante a ditado de iterar sobre as chaves dos objetos.\n",
    "\n",
    "Resumindo, a iteração básica (para `i` no objeto) produz:\n",
    "\n",
    "* Série − valores\n",
    "* DataFrame - rótulos de coluna\n",
    "* Painel − rótulos de itens"
   ]
  },
  {
   "attachments": {},
   "cell_type": "markdown",
   "metadata": {},
   "source": [
    "# Iterando um DataFrame\n",
    "\n",
    "A iteração de um DataFrame fornece nomes de coluna. Vamos considerar o seguinte exemplo para entender o mesmo."
   ]
  },
  {
   "cell_type": "code",
   "execution_count": null,
   "metadata": {},
   "outputs": [],
   "source": [
    "import pandas as pd\n",
    "import numpy as np\n",
    " \n",
    "N=20\n",
    "df = pd.DataFrame({\n",
    "   'A': pd.date_range(start='2016-01-01',periods=N,freq='D'),\n",
    "   'x': np.linspace(0,stop=N-1,num=N),\n",
    "   'y': np.random.rand(N),\n",
    "   'C': np.random.choice(['Low','Medium','High'],N).tolist(),\n",
    "   'D': np.random.normal(100, 10, size=(N)).tolist()\n",
    "   })\n",
    "print(df.head())\n",
    "for col in df:\n",
    "    print(col)"
   ]
  },
  {
   "attachments": {},
   "cell_type": "markdown",
   "metadata": {},
   "source": [
    "Para iterar nas linhas do DataFrame, podemos usar as seguintes funções −\n",
    "\n",
    "* `iteritems()` − para iterar sobre os pares (chave, valor)\n",
    "* `iterrows()` − iterar sobre as linhas como pares (índice, série)\n",
    "* `itertuples()` − iterar sobre as linhas como namedtuples"
   ]
  },
  {
   "attachments": {},
   "cell_type": "markdown",
   "metadata": {},
   "source": [
    "## iteritems()\n",
    "\n",
    "Itera sobre cada coluna como chave, par de valor com rótulo como chave e valor de coluna como um objeto Series.\n",
    "\n",
    "> Observe que cada coluna é iterada separadamente como um par chave-valor em uma série.\n",
    "\n",
    "[mais em Pandas](https://pandas.pydata.org/pandas-docs/version/1.3/reference/api/pandas.DataFrame.iteritems.html#pandas-dataframe-iteritems)"
   ]
  },
  {
   "cell_type": "code",
   "execution_count": 8,
   "metadata": {},
   "outputs": [
    {
     "name": "stdout",
     "output_type": "stream",
     "text": [
      "       col1      col2      col3\n",
      "0 -0.547416 -0.189310 -2.122048\n",
      "1  0.533379 -1.801052  0.106869\n",
      "2 -1.076706 -1.834793  0.038968\n",
      "3  0.281210  0.101605 -0.866777 \n",
      "\n",
      "label: col1 <class 'str'>\n",
      "content: 0   -0.547416\n",
      "1    0.533379\n",
      "2   -1.076706\n",
      "3    0.281210\n",
      "Name: col1, dtype: float64\n",
      "<class 'pandas.core.series.Series'> \n",
      "\n",
      "label: col2 <class 'str'>\n",
      "content: 0   -0.189310\n",
      "1   -1.801052\n",
      "2   -1.834793\n",
      "3    0.101605\n",
      "Name: col2, dtype: float64\n",
      "<class 'pandas.core.series.Series'> \n",
      "\n",
      "label: col3 <class 'str'>\n",
      "content: 0   -2.122048\n",
      "1    0.106869\n",
      "2    0.038968\n",
      "3   -0.866777\n",
      "Name: col3, dtype: float64\n",
      "<class 'pandas.core.series.Series'> \n",
      "\n"
     ]
    }
   ],
   "source": [
    "import pandas as pd\n",
    "import numpy as np\n",
    " \n",
    "df = pd.DataFrame(np.random.randn(4,3),columns=['col1','col2','col3'])\n",
    "print(df.head(), '\\n')\n",
    "for key,value in df.items():\n",
    "    print(f'label: {key}', type(key))\n",
    "    print(f'content: {value}', sep='\\n')\n",
    "    print(type(value), '\\n')"
   ]
  },
  {
   "attachments": {},
   "cell_type": "markdown",
   "metadata": {},
   "source": [
    "## iterrows()\n",
    "\n",
    "`iterrows()` retorna o iterador gerando cada valor de índice junto com uma série contendo os dados em cada linha.\n",
    "\n",
    "> **Observação:** Como `iterrows()` iteram sobre as linhas, ele não preserva o tipo de dados na linha. \n",
    "\n",
    "> `0`, `1`, `2` são os índices de linha e `col1`, `col2`, `col3` são índices de coluna.\n",
    "\n",
    "[mais em pandas](https://pandas.pydata.org/pandas-docs/version/1.3/reference/api/pandas.DataFrame.iterrows.html#pandas.DataFrame.iterrows)"
   ]
  },
  {
   "cell_type": "code",
   "execution_count": 30,
   "metadata": {},
   "outputs": [
    {
     "name": "stdout",
     "output_type": "stream",
     "text": [
      "       col1      col2      col3\n",
      "0 -0.894206  0.040148 -0.741859\n",
      "1 -0.869025 -0.059945  0.014203\n",
      "2  0.004482 -1.202750 -0.277030\n",
      "3 -0.166198  0.833034 -1.172269 \n",
      "\n",
      "index: 0 <class 'int'>\n",
      "col1   -0.894206\n",
      "col2    0.040148\n",
      "col3   -0.741859\n",
      "Name: 0, dtype: float64\n",
      ">>> r -0.8942063344682829 type r <class 'float'>\n",
      ">>> r 0.0401484222025935 type r <class 'float'>\n",
      ">>> r -0.7418585721952748 type r <class 'float'>\n",
      "type row <class 'pandas.core.series.Series'> \n",
      "\n",
      "index: 1 <class 'int'>\n",
      "col1   -0.869025\n",
      "col2   -0.059945\n",
      "col3    0.014203\n",
      "Name: 1, dtype: float64\n",
      ">>> r -0.8690254712209803 type r <class 'float'>\n",
      ">>> r -0.05994481915617261 type r <class 'float'>\n",
      ">>> r 0.014202854189897954 type r <class 'float'>\n",
      "type row <class 'pandas.core.series.Series'> \n",
      "\n",
      "index: 2 <class 'int'>\n",
      "col1    0.004482\n",
      "col2   -1.202750\n",
      "col3   -0.277030\n",
      "Name: 2, dtype: float64\n",
      ">>> r 0.00448223566379704 type r <class 'float'>\n",
      ">>> r -1.2027499565327044 type r <class 'float'>\n",
      ">>> r -0.27703044477711913 type r <class 'float'>\n",
      "type row <class 'pandas.core.series.Series'> \n",
      "\n",
      "index: 3 <class 'int'>\n",
      "col1   -0.166198\n",
      "col2    0.833034\n",
      "col3   -1.172269\n",
      "Name: 3, dtype: float64\n",
      ">>> r -0.16619790213793498 type r <class 'float'>\n",
      ">>> r 0.8330344119881417 type r <class 'float'>\n",
      ">>> r -1.1722693222680574 type r <class 'float'>\n",
      "type row <class 'pandas.core.series.Series'> \n",
      "\n"
     ]
    }
   ],
   "source": [
    "import pandas as pd\n",
    "import numpy as np\n",
    "\n",
    "df = pd.DataFrame(np.random.randn(4,3),columns = ['col1','col2','col3'])\n",
    "print(df, '\\n')\n",
    "for row_index, row in df.iterrows():\n",
    "   print(f'index: {row_index}', type(row_index))\n",
    "   print(row)\n",
    "   for r in row:\n",
    "      print('>>> r', r, 'type r', type(r))\n",
    "   print('type row', type(row), '\\n')"
   ]
  },
  {
   "attachments": {},
   "cell_type": "markdown",
   "metadata": {},
   "source": [
    "## itertuplas()\n",
    "\n",
    "`itertuples()` retornará um iterador gerando uma tupla nomeada para cada linha no DataFrame. O primeiro elemento da tupla será o valor de índice correspondente da linha, enquanto os valores restantes são os valores da linha.\n",
    "\n",
    "[mais em pandas](https://pandas.pydata.org/pandas-docs/version/1.3/reference/api/pandas.DataFrame.itertuples.html)"
   ]
  },
  {
   "cell_type": "code",
   "execution_count": 24,
   "metadata": {},
   "outputs": [
    {
     "name": "stdout",
     "output_type": "stream",
     "text": [
      "       col1      col2      col3\n",
      "0  0.588605  0.897320  0.797308\n",
      "1  0.164387 -0.047755 -0.915652\n",
      "2  0.029146 -0.316070 -0.871190\n",
      "3  1.380692 -0.627874  1.386279 \n",
      "\n",
      "row Pandas(Index=0, col1=0.5886047836668269, col2=0.8973204972328737, col3=0.7973081239133667) <class 'pandas.core.frame.Pandas'>\n",
      "r 0 <class 'int'>\n",
      "r 0.5886047836668269 <class 'float'>\n",
      "r 0.8973204972328737 <class 'float'>\n",
      "r 0.7973081239133667 <class 'float'>\n",
      "row Pandas(Index=1, col1=0.16438747651320787, col2=-0.04775492742571446, col3=-0.9156519664955515) <class 'pandas.core.frame.Pandas'>\n",
      "r 1 <class 'int'>\n",
      "r 0.16438747651320787 <class 'float'>\n",
      "r -0.04775492742571446 <class 'float'>\n",
      "r -0.9156519664955515 <class 'float'>\n",
      "row Pandas(Index=2, col1=0.02914583275144513, col2=-0.3160695901014719, col3=-0.8711895103125828) <class 'pandas.core.frame.Pandas'>\n",
      "r 2 <class 'int'>\n",
      "r 0.02914583275144513 <class 'float'>\n",
      "r -0.3160695901014719 <class 'float'>\n",
      "r -0.8711895103125828 <class 'float'>\n",
      "row Pandas(Index=3, col1=1.3806916327348697, col2=-0.6278739133509099, col3=1.3862790104477458) <class 'pandas.core.frame.Pandas'>\n",
      "r 3 <class 'int'>\n",
      "r 1.3806916327348697 <class 'float'>\n",
      "r -0.6278739133509099 <class 'float'>\n",
      "r 1.3862790104477458 <class 'float'>\n"
     ]
    }
   ],
   "source": [
    "import pandas as pd\n",
    "import numpy as np\n",
    "\n",
    "df = pd.DataFrame(np.random.randn(4,3),columns = ['col1','col2','col3'])\n",
    "print(df, '\\n')\n",
    "for row in df.itertuples():\n",
    "    print('row', row, type(row))\n",
    "    for r in row:\n",
    "        print('r', r, type(r))"
   ]
  },
  {
   "attachments": {},
   "cell_type": "markdown",
   "metadata": {},
   "source": [
    "> **Nota:** Não tente modificar nenhum objeto durante a iteração. A iteração destina-se à leitura e o iterador retorna uma cópia do objeto original (uma exibição), portanto, as alterações não serão refletidas no objeto original."
   ]
  },
  {
   "cell_type": "code",
   "execution_count": 19,
   "metadata": {},
   "outputs": [
    {
     "name": "stdout",
     "output_type": "stream",
     "text": [
      "       col1      col2      col3\n",
      "0 -0.011082 -0.116534 -0.834158\n",
      "1  0.872729  0.759126  0.462441\n",
      "2 -0.061433  1.655906 -0.528696\n",
      "3 -0.491968  0.420851  0.258411\n"
     ]
    }
   ],
   "source": [
    "import pandas as pd\n",
    "import numpy as np\n",
    "\n",
    "df = pd.DataFrame(np.random.randn(4,3),columns = ['col1','col2','col3'])\n",
    "\n",
    "for index, row in df.iterrows():\n",
    "   row['a'] = 10\n",
    "print(df)"
   ]
  }
 ],
 "metadata": {
  "kernelspec": {
   "display_name": "venv_pandas",
   "language": "python",
   "name": "python3"
  },
  "language_info": {
   "codemirror_mode": {
    "name": "ipython",
    "version": 3
   },
   "file_extension": ".py",
   "mimetype": "text/x-python",
   "name": "python",
   "nbconvert_exporter": "python",
   "pygments_lexer": "ipython3",
   "version": "3.10.9"
  },
  "orig_nbformat": 4
 },
 "nbformat": 4,
 "nbformat_minor": 2
}
