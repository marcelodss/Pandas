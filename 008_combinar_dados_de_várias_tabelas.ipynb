{
 "cells": [
  {
   "cell_type": "code",
   "execution_count": null,
   "metadata": {},
   "outputs": [],
   "source": [
    "import pandas as pd"
   ]
  },
  {
   "attachments": {},
   "cell_type": "markdown",
   "metadata": {},
   "source": [
    "[Fonte](https://pandas.pydata.org/docs/getting_started/intro_tutorials/08_combine_dataframes.html#)"
   ]
  },
  {
   "cell_type": "code",
   "execution_count": null,
   "metadata": {},
   "outputs": [],
   "source": [
    "air_quality_no2 = pd.read_csv(\"data/air_quality_no2_long.csv\",\n",
    "                              parse_dates=True)\n",
    "\n",
    "\n",
    "air_quality_no2 = air_quality_no2[[\"date.utc\", \"location\",\n",
    "                                   \"parameter\", \"value\"]]\n",
    "\n",
    "air_quality_no2.head()"
   ]
  },
  {
   "cell_type": "code",
   "execution_count": null,
   "metadata": {},
   "outputs": [],
   "source": [
    "air_quality_pm25 = pd.read_csv(\"data/air_quality_pm25_long.csv\",\n",
    "                               parse_dates=True)\n",
    "\n",
    "\n",
    "air_quality_pm25 = air_quality_pm25[[\"date.utc\", \"location\",\n",
    "                                     \"parameter\", \"value\"]]\n",
    "\n",
    "\n",
    "air_quality_pm25.head()"
   ]
  },
  {
   "attachments": {},
   "cell_type": "markdown",
   "metadata": {},
   "source": [
    "## Concatenando objetos"
   ]
  },
  {
   "attachments": {},
   "cell_type": "markdown",
   "metadata": {},
   "source": [
    "Quero combinar as medidas NO<sub>2</sub> e <sub>PM25</sub> de duas tabelas com estruturas semelhantes, em uma única tabela.\n",
    "\n",
    "> A função `concat()` executa operações de concatenação de várias tabelas ao longo de um dos eixos (por linha ou por coluna)."
   ]
  },
  {
   "cell_type": "code",
   "execution_count": null,
   "metadata": {},
   "outputs": [],
   "source": [
    "air_quality = pd.concat([air_quality_pm25, air_quality_no2], axis=0)\n",
    "\n",
    "air_quality.head()"
   ]
  },
  {
   "attachments": {},
   "cell_type": "markdown",
   "metadata": {},
   "source": [
    "Por padrão, a concatenação ocorre ao longo do eixo 0, portanto, a tabela resultante combina as linhas das tabelas de entrada. Vamos verificar a forma do original e as tabelas concatenadas para verificar a operação:"
   ]
  },
  {
   "cell_type": "code",
   "execution_count": null,
   "metadata": {},
   "outputs": [],
   "source": [
    "print('Shape of the ``air_quality_pm25`` table: ', air_quality_pm25.shape)\n",
    "print('Shape of the ``air_quality_no2`` table: ', air_quality_no2.shape)\n",
    "print('Shape of the resulting ``air_quality`` table: ', air_quality.shape)\n",
    "print('Portanto, a tabela resultante tem 3178 = 1110 + 2068 linhas.')"
   ]
  },
  {
   "attachments": {},
   "cell_type": "markdown",
   "metadata": {},
   "source": [
    "> O argumento do eixo retornará em vários métodos pandas que podem ser aplicados ao longo de um eixo. O `DataFrame` tem dois eixos correspondentes: o primeiro correndo verticalmente para baixo nas linhas (eixo 0) e o segundo correndo horizontalmente nas colunas (eixo 1). A maioria das operações, como concatenação ou estatísticas resumidas, ocorre por padrão em linhas (eixo 0), mas também pode ser aplicada em colunas.\n",
    "\n",
    "A classificação da tabela nas informações de data e hora também ilustra a combinação de ambas as tabelas, com a coluna `parameter` definindo a origem da tabela (`no2` da tabela `air_quality_no2` ou `pm25` da tabela `air_quality_pm25`):"
   ]
  },
  {
   "cell_type": "code",
   "execution_count": null,
   "metadata": {},
   "outputs": [],
   "source": [
    "air_quality = air_quality.sort_values(\"date.utc\")\n",
    "\n",
    "air_quality.head()"
   ]
  },
  {
   "attachments": {},
   "cell_type": "markdown",
   "metadata": {},
   "source": [
    "Neste exemplo específico, a coluna `parameter` fornecida pelos dados garante que cada uma das tabelas originais possa ser identificada. Isso não é sempre o caso. A função `concat` fornece uma solução conveniente com o argumento `keys`, adicionando um índice de linha adicional (hierárquico). Por exemplo:"
   ]
  },
  {
   "cell_type": "code",
   "execution_count": null,
   "metadata": {},
   "outputs": [],
   "source": [
    "air_quality_ = pd.concat([air_quality_pm25, air_quality_no2], keys=[\"PM25\", \"NO2\"])\n",
    "\n",
    "air_quality_.head()"
   ]
  },
  {
   "cell_type": "code",
   "execution_count": null,
   "metadata": {},
   "outputs": [],
   "source": [
    "air_quality_.tail()"
   ]
  },
  {
   "attachments": {},
   "cell_type": "markdown",
   "metadata": {},
   "source": [
    "> A existência de vários índices de linha/coluna ao mesmo tempo não foi mencionada nestes tutoriais. A indexação hierárquica ou MultiIndex é um recurso de pandas avançado e poderoso para analisar dados dimensionais superiores.\n",
    "\n",
    "> A indexação múltipla está fora do escopo desta introdução aos pandas. Por enquanto, lembre-se que a função `reset_index` pode ser usada para converter qualquer nível de um índice em uma coluna, por exemplo `air_quality.reset_index(level=0)`\n",
    "\n",
    "> Sinta-se à vontade para mergulhar no mundo da indexação múltipla na seção do guia do usuário sobre [indexação avançada](https://pandas.pydata.org/docs/user_guide/advanced.html#advanced).\n",
    "\n",
    "> Mais opções sobre concatenação de tabelas (linha e coluna) e como `concat` podem ser usadas para definir a lógica (união ou interseção) dos índices nos outros eixos são fornecidas na seção sobre [concatenação de objetos](https://pandas.pydata.org/docs/user_guide/merging.html#merging-concat)."
   ]
  },
  {
   "attachments": {},
   "cell_type": "markdown",
   "metadata": {},
   "source": [
    "## Junte tabelas usando um identificador comum\n",
    "\n",
    "[Fonte](https://pandas.pydata.org/docs/getting_started/intro_tutorials/08_combine_dataframes.html#join-tables-using-a-common-identifier)\n",
    "\n",
    "Adicione as coordenadas da estação, fornecidas pela tabela de metadados das estações, às linhas correspondentes na tabela de medições.\n",
    "\n",
    "> As estações usadas neste exemplo (FR04014, BETR801 e London Westminster) são apenas três entradas listadas na tabela de metadados. Queremos apenas adicionar as coordenadas desses três à tabela de medidas, cada uma nas linhas correspondentes da tabela `air_quality`."
   ]
  },
  {
   "cell_type": "code",
   "execution_count": null,
   "metadata": {},
   "outputs": [],
   "source": [
    "stations_coord = pd.read_csv(\"data/air_quality_stations.csv\")\n",
    "\n",
    "stations_coord.head()"
   ]
  },
  {
   "cell_type": "code",
   "execution_count": null,
   "metadata": {},
   "outputs": [],
   "source": [
    "air_quality.head()"
   ]
  },
  {
   "attachments": {},
   "cell_type": "markdown",
   "metadata": {},
   "source": [
    "Usando a função `merge()`, para cada uma das linhas da tabela `air_quality`, as coordenadas correspondentes são adicionadas da tabela `air_quality_stations_coord`. Ambas as tabelas possuem em comum a coluna `location` que é utilizada como chave para combinar as informações. Ao escolher a junção `left`, apenas os locais disponíveis na tabela `air_quality` (à esquerda), ou seja, FR04014, BETR801 e London Westminster, acabam na tabela resultante. A função `merge` oferece suporte a várias opções de junção semelhantes às operações de estilo de banco de dados."
   ]
  },
  {
   "cell_type": "code",
   "execution_count": null,
   "metadata": {},
   "outputs": [],
   "source": [
    "air_quality = pd.merge(air_quality, stations_coord, how=\"left\", on=\"location\")\n",
    "\n",
    "air_quality.head()"
   ]
  },
  {
   "attachments": {},
   "cell_type": "markdown",
   "metadata": {},
   "source": [
    "Adicione a descrição completa e o nome dos parâmetros, fornecidos pela tabela de metadados dos parâmetros, à tabela de medições.\n",
    "\n",
    "> Em comparação com o exemplo anterior, não há um nome de coluna comum. No entanto, a coluna `parameter` na tabela `air_quality` e a coluna `id` em `air_quality_parameters_name` ambas fornecem a variável medida em um formato comum. Os argumentos `left_one` e `right_on` são usados ​​aqui (ao invés de apenas on) para fazer o link entre as duas tabelas."
   ]
  },
  {
   "cell_type": "code",
   "execution_count": null,
   "metadata": {},
   "outputs": [],
   "source": [
    "air_quality_parameters = pd.read_csv(\"data/air_quality_parameters.csv\")\n",
    "\n",
    "air_quality_parameters.head()"
   ]
  },
  {
   "cell_type": "code",
   "execution_count": null,
   "metadata": {},
   "outputs": [],
   "source": [
    "air_quality = pd.merge(air_quality, air_quality_parameters,\n",
    "                       how='left', left_on='parameter', right_on='id')\n",
    "\n",
    "\n",
    "air_quality.head()"
   ]
  },
  {
   "attachments": {},
   "cell_type": "markdown",
   "metadata": {},
   "source": [
    "> Pandas suporta também junções internas, externas e direitas. Mais informações sobre união/mesclagem de tabelas são fornecidas na seção do guia do usuário sobre [mesclagem de tabelas no estilo de banco de dados](https://pandas.pydata.org/docs/user_guide/merging.html#merging-join). Ou dê uma olhada na [comparação com a página SQL](https://pandas.pydata.org/docs/getting_started/comparison/comparison_with_sql.html#compare-with-sql-join)."
   ]
  },
  {
   "attachments": {},
   "cell_type": "markdown",
   "metadata": {},
   "source": [
    "## LEMBRAR\n",
    "\n",
    "* Várias tabelas podem ser concatenadas tanto em colunas quanto em linhas usando a função `concat`.\n",
    "\n",
    "* Para mesclar/juntar tabelas como banco de dados, use a função `merge`."
   ]
  }
 ],
 "metadata": {
  "kernelspec": {
   "display_name": "venv_pandas",
   "language": "python",
   "name": "python3"
  },
  "language_info": {
   "codemirror_mode": {
    "name": "ipython",
    "version": 3
   },
   "file_extension": ".py",
   "mimetype": "text/x-python",
   "name": "python",
   "nbconvert_exporter": "python",
   "pygments_lexer": "ipython3",
   "version": "3.10.9"
  },
  "orig_nbformat": 4
 },
 "nbformat": 4,
 "nbformat_minor": 2
}
