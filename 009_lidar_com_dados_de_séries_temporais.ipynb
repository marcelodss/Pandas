{
 "cells": [
  {
   "cell_type": "code",
   "execution_count": null,
   "metadata": {},
   "outputs": [],
   "source": [
    "import pandas as pd\n",
    "\n",
    "import matplotlib.pyplot as plt"
   ]
  },
  {
   "cell_type": "code",
   "execution_count": null,
   "metadata": {},
   "outputs": [],
   "source": [
    "air_quality = pd.read_csv(\"data/air_quality_no2_long.csv\")\n",
    "\n",
    "air_quality = air_quality.rename(columns={\"date.utc\": \"datetime\"})\n",
    "\n",
    "air_quality.head()"
   ]
  },
  {
   "cell_type": "code",
   "execution_count": null,
   "metadata": {},
   "outputs": [],
   "source": [
    "air_quality.city.unique()"
   ]
  },
  {
   "attachments": {},
   "cell_type": "markdown",
   "metadata": {},
   "source": [
    "[Fonte](https://pandas.pydata.org/docs/getting_started/intro_tutorials/09_timeseries.html)"
   ]
  },
  {
   "attachments": {},
   "cell_type": "markdown",
   "metadata": {},
   "source": [
    "## Usando propriedades de data e hora do pandas\n",
    "\n",
    "Eu quero trabalhar com as datas na coluna `datetime` como objetos de data e hora em vez de texto simples"
   ]
  },
  {
   "cell_type": "code",
   "execution_count": null,
   "metadata": {},
   "outputs": [],
   "source": [
    "air_quality[\"datetime\"] = pd.to_datetime(air_quality[\"datetime\"])\n",
    "\n",
    "air_quality[\"datetime\"]"
   ]
  },
  {
   "attachments": {},
   "cell_type": "markdown",
   "metadata": {},
   "source": [
    "Inicialmente, os valores em `datetime` são cadeias de caracteres e não fornecem nenhuma operação de data/hora (por exemplo, extrair o ano, dia da semana,…). Para aplicar a função `to_datetime`, o pandas interpreta as strings e as converte em objetos `datetime` (isto é, `.datetime64[ns, UTC]`). No Pandas, chamamos esses objetos de data e hora semelhantes aos da biblioteca padrão `datetime.datetime` como `pandas.Timestamp`.\n",
    "\n",
    "> Como muitos conjuntos de dados contêm informações de data e hora em uma das colunas, a função de entrada do pandas [`pandas.read_csv()`](https://pandas.pydata.org/docs/reference/api/pandas.read_csv.html#pandas.read_csv) e [`pandas.read_json()`](https://pandas.pydata.org/docs/reference/api/pandas.read_json.html#pandas.read_json) pode fazer a transformação em datas ao ler os dados usando o parâmetro `parse_dates` com uma lista das colunas a serem lidas como Timestamp:\n",
    "\n",
    "```\n",
    "pd.read_csv(\"data/air_quality_no2_long.csv\", parse_dates=[\"datetime\"])\n",
    "\n",
    "```\n",
    "\n",
    "Por que esses objetos [`pandas.Timestamp`](https://pandas.pydata.org/docs/reference/api/pandas.Timestamp.html#pandas.Timestamp) são úteis? Vamos ilustrar o valor agregado com alguns casos de exemplo.\n",
    "\n",
    "Qual é a data inicial e final do conjunto de dados da série temporal com o qual estamos trabalhando?"
   ]
  },
  {
   "cell_type": "code",
   "execution_count": null,
   "metadata": {},
   "outputs": [],
   "source": [
    "air_quality[\"datetime\"].min(), air_quality[\"datetime\"].max()"
   ]
  },
  {
   "attachments": {},
   "cell_type": "markdown",
   "metadata": {},
   "source": [
    "Usar [`pandas.Timestamp`](https://pandas.pydata.org/docs/reference/api/pandas.Timestamp.html#pandas.Timestamp) para `datetimes` nos permite calcular com informações de data e torná-las comparáveis. Portanto, podemos usar isso para obter o comprimento de nossa série temporal:"
   ]
  },
  {
   "cell_type": "code",
   "execution_count": null,
   "metadata": {},
   "outputs": [],
   "source": [
    "air_quality[\"datetime\"].max() - air_quality[\"datetime\"].min()"
   ]
  },
  {
   "attachments": {},
   "cell_type": "markdown",
   "metadata": {},
   "source": [
    "O resultado é um objeto [`pandas.Timedelta`](https://pandas.pydata.org/docs/reference/api/pandas.Timedelta.html#pandas.Timedelta), semelhante ao `datetime.timedelta` da biblioteca padrão Python e definindo uma duração de tempo.\n",
    "\n",
    "> Os vários conceitos de tempo suportados pelos pandas são explicados na seção do guia do usuário sobre [conceitos relacionados ao tempo](https://pandas.pydata.org/docs/user_guide/timeseries.html#timeseries-overview)."
   ]
  },
  {
   "attachments": {},
   "cell_type": "markdown",
   "metadata": {},
   "source": [
    "Quero adicionar uma nova coluna ao DataFramecontendo apenas o mês da medição"
   ]
  },
  {
   "cell_type": "code",
   "execution_count": null,
   "metadata": {},
   "outputs": [],
   "source": [
    "air_quality[\"month\"] = air_quality[\"datetime\"].dt.month\n",
    "\n",
    "air_quality.head()"
   ]
  },
  {
   "attachments": {},
   "cell_type": "markdown",
   "metadata": {},
   "source": [
    "Ao usar objetos `Timestamp` para datas, muitas propriedades relacionadas ao tempo são fornecidas pelos pandas. Por exemplo, o `month`, mas também `year`, `quarter`,… Todas essas propriedades são acessíveis pelo `dt` acessador.\n",
    "\n",
    "> Uma visão geral das propriedades de data existentes é fornecida na [tabela de visão geral dos componentes de data e hora](https://pandas.pydata.org/docs/user_guide/timeseries.html#timeseries-components). Mais detalhes sobre o acessador `dt` para retornar propriedades semelhantes a data e hora são explicados em uma seção dedicada no [acessador dt](https://pandas.pydata.org/docs/user_guide/basics.html#basics-dt-accessors) ."
   ]
  },
  {
   "attachments": {},
   "cell_type": "markdown",
   "metadata": {},
   "source": [
    "Qual é a média de concentração ***NO<sub>2<sub>*** para cada dia da semana para cada um dos locais de medição?\n",
    "\n",
    "> Lembra-se do padrão _split-apply-combine_ fornecido pelo `groupby` no tutorial sobre [cálculo de estatísticas](https://pandas.pydata.org/docs/getting_started/intro_tutorials/06_calculate_statistics.html#min-tut-06-stats)? Aqui, queremos calcular uma determinada estatística (por exemplo, média NO<sub>2</sub>) para cada dia da semana e para cada local de medição. Para agrupar em dias de semana, usamos a propriedade datetime `weekday` (com Monday=0 e Sunday=6) do pandas `Timestamp`, que também é acessível pelo acessador `dt`. O agrupamento em locais e dias da semana pode ser feito para dividir o cálculo da média em cada uma dessas combinações.\n",
    "\n",
    "> Como estamos trabalhando com uma série temporal muito curta nesses exemplos, a análise não fornece um resultado representativo de longo prazo!"
   ]
  },
  {
   "cell_type": "code",
   "execution_count": null,
   "metadata": {},
   "outputs": [],
   "source": [
    "air_quality.groupby([air_quality[\"datetime\"].dt.weekday, \"location\"])[\"value\"].mean()"
   ]
  },
  {
   "attachments": {},
   "cell_type": "markdown",
   "metadata": {},
   "source": [
    "Traçar o típico NO<sub>2</sub> padrão durante o dia de nossa série temporal de todas as estações juntas. Em outras palavras, qual é o valor médio para cada hora do dia?"
   ]
  },
  {
   "cell_type": "code",
   "execution_count": null,
   "metadata": {},
   "outputs": [],
   "source": [
    "fig, axs = plt.subplots(figsize=(12, 4))\n",
    "\n",
    "air_quality.groupby(air_quality[\"datetime\"].dt.hour)[\"value\"].mean().plot(\n",
    "    kind='bar', rot=0, ax=axs\n",
    ")\n",
    "\n",
    "# custom x label using Matplotlib\n",
    "plt.xlabel(\"Hora do dia\")  \n",
    "plt.ylabel(\"$NO_2 (µg/m^3)$\")"
   ]
  },
  {
   "attachments": {},
   "cell_type": "markdown",
   "metadata": {},
   "source": [
    "Semelhante ao caso anterior, queremos calcular uma determinada estatística (por exemplo, média NO<sub>2</sub>) para cada hora do dia e podemos usar a abordagem dividir-aplicar-combinar novamente. Para este caso, usamos a propriedade datetime `hour` do pandas `Timestamp`, que também pode ser acessada pelo acessador `dt`."
   ]
  },
  {
   "attachments": {},
   "cell_type": "markdown",
   "metadata": {},
   "source": [
    "## Data e hora como índice \n",
    "\n",
    "No [tutorial sobre remodelagem](https://pandas.pydata.org/docs/getting_started/intro_tutorials/07_reshape_table_layout.html#min-tut-07-reshape), [`pivot()`](https://pandas.pydata.org/docs/reference/api/pandas.pivot.html#pandas.pivot) foi introduzido para remodelar a tabela de dados com cada um dos locais de medição como uma coluna separada:"
   ]
  },
  {
   "cell_type": "code",
   "execution_count": null,
   "metadata": {},
   "outputs": [],
   "source": [
    "no_2 = air_quality.pivot(index=\"datetime\", columns=\"location\", values=\"value\")\n",
    "no_2.head()"
   ]
  },
  {
   "attachments": {},
   "cell_type": "markdown",
   "metadata": {},
   "source": [
    "> Ao dinamizar os dados, as informações de data e hora se tornaram o índice da tabela. Em geral, definir uma coluna como um índice pode ser obtido pela função `set_index`."
   ]
  },
  {
   "attachments": {},
   "cell_type": "markdown",
   "metadata": {},
   "source": [
    "Trabalhar com um índice de data e hora (ou seja, `DatetimeIndex` ) fornece funcionalidades poderosas. Por exemplo, não precisamos do acessador `dt` para obter as propriedades da série temporal, mas temos essas propriedades disponíveis diretamente no índice:"
   ]
  },
  {
   "cell_type": "code",
   "execution_count": null,
   "metadata": {},
   "outputs": [],
   "source": [
    "no_2.index.year, no_2.index.weekday"
   ]
  },
  {
   "attachments": {},
   "cell_type": "markdown",
   "metadata": {},
   "source": [
    "Algumas outras vantagens são o subconjunto conveniente do período de tempo ou a escala de tempo adaptada nas parcelas. Vamos aplicar isso em nossos dados."
   ]
  },
  {
   "attachments": {},
   "cell_type": "markdown",
   "metadata": {},
   "source": [
    "Crie uma plot dos valores do NO<sub>2</sub> nas diferentes estações de 20 de maio até o final de 21 de maio"
   ]
  },
  {
   "cell_type": "code",
   "execution_count": null,
   "metadata": {},
   "outputs": [],
   "source": [
    "no_2[\"2019-05-20\":\"2019-05-21\"].plot();"
   ]
  },
  {
   "attachments": {},
   "cell_type": "markdown",
   "metadata": {},
   "source": [
    "Ao fornecer uma string que analisa um datetime, um subconjunto específico dos dados pode ser selecionado em um arquivo `DatetimeIndex`.\n",
    "\n",
    "> Mais informações sobre o `DatetimeIndex` e o fatiamento usando strings são fornecidas na seção sobre [indexação de séries temporais](https://pandas.pydata.org/docs/user_guide/timeseries.html#timeseries-datetimeindex)."
   ]
  },
  {
   "attachments": {},
   "cell_type": "markdown",
   "metadata": {},
   "source": [
    "## Reamostrar uma série temporal para outra frequência\n",
    "\n",
    "Agregue os valores atuais da série temporal horária ao valor máximo mensal em cada uma das estações.\n",
    "\n",
    "> Um método muito poderoso em dados de séries temporais com um índice de data e hora é a capacidade de [`resample()`](https://pandas.pydata.org/docs/reference/api/pandas.Series.resample.html#pandas.Series.resample) séries temporais para outra frequência (por exemplo, converter dados secundários em dados de 5 minutos).\n",
    "\n",
    "O método [`resample()`](https://pandas.pydata.org/docs/reference/api/pandas.Series.resample.html#pandas.Series.resample) é semelhante a uma operação groupby:\n",
    "\n",
    "* ele fornece um agrupamento baseado em tempo, usando uma string (por exemplo `M`, `5H`, ,…) que define a frequência alvo\n",
    "\n",
    "* requer uma função de agregação como `mean`, `max`,…"
   ]
  },
  {
   "cell_type": "code",
   "execution_count": null,
   "metadata": {},
   "outputs": [],
   "source": [
    "monthly_max = no_2.resample(\"M\").max()\n",
    "\n",
    "monthly_max"
   ]
  },
  {
   "attachments": {},
   "cell_type": "markdown",
   "metadata": {},
   "source": [
    "> Uma visão geral dos aliases usados ​​para definir freqüências de séries temporais é fornecida na tabela de [visão geral de aliases de deslocamento](https://pandas.pydata.org/docs/user_guide/timeseries.html#timeseries-offset-aliases).\n",
    "\n",
    "Quando definida, a frequência da série temporal é fornecida pelo atributo `freq`:"
   ]
  },
  {
   "cell_type": "code",
   "execution_count": null,
   "metadata": {},
   "outputs": [],
   "source": [
    "monthly_max.index.freq"
   ]
  },
  {
   "attachments": {},
   "cell_type": "markdown",
   "metadata": {},
   "source": [
    "Faça um gráfico da média diária NO<sub>2</sub> valor em cada uma das estações."
   ]
  },
  {
   "cell_type": "code",
   "execution_count": null,
   "metadata": {},
   "outputs": [],
   "source": [
    "no_2.resample(\"D\").mean().plot(style=\"-o\", figsize=(10, 5));"
   ]
  },
  {
   "attachments": {},
   "cell_type": "markdown",
   "metadata": {},
   "source": [
    "Mais detalhes sobre o poder da série temporal `resampling` são fornecidos na seção do guia do usuário sobre [reamostragem](https://pandas.pydata.org/docs/user_guide/timeseries.html#timeseries-resampling)."
   ]
  },
  {
   "attachments": {},
   "cell_type": "markdown",
   "metadata": {},
   "source": [
    "## LEMBRAR\n",
    "\n",
    "* Strings de data válidas podem ser convertidas em objetos datetime usando função `to_datetime` ou como parte de funções de leitura.\n",
    "\n",
    "* Os objetos Datetime em pandas suportam cálculos, operações lógicas e propriedades convenientes relacionadas à data usando o acessador `dt`.\n",
    "\n",
    "* A `DatetimeIndex` contém essas propriedades relacionadas à data e oferece suporte a fatias convenientes.\n",
    "\n",
    "* `Resample` é um método poderoso para alterar a frequência de uma série temporal."
   ]
  },
  {
   "attachments": {},
   "cell_type": "markdown",
   "metadata": {},
   "source": [
    "\n",
    "> Uma visão geral completa sobre séries temporais é fornecida nas páginas sobre [séries temporais e funcionalidade de data](https://pandas.pydata.org/docs/user_guide/timeseries.html#timeseries)."
   ]
  }
 ],
 "metadata": {
  "kernelspec": {
   "display_name": "venv_pandas",
   "language": "python",
   "name": "python3"
  },
  "language_info": {
   "codemirror_mode": {
    "name": "ipython",
    "version": 3
   },
   "file_extension": ".py",
   "mimetype": "text/x-python",
   "name": "python",
   "nbconvert_exporter": "python",
   "pygments_lexer": "ipython3",
   "version": "3.10.9"
  },
  "orig_nbformat": 4
 },
 "nbformat": 4,
 "nbformat_minor": 2
}
