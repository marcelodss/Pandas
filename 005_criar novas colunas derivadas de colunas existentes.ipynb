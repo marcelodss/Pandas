{
 "cells": [
  {
   "cell_type": "code",
   "execution_count": null,
   "metadata": {},
   "outputs": [],
   "source": [
    "import pandas as pd"
   ]
  },
  {
   "attachments": {},
   "cell_type": "markdown",
   "metadata": {},
   "source": [
    "[Fonte](https://pandas.pydata.org/docs/getting_started/intro_tutorials/05_add_columns.html)"
   ]
  },
  {
   "attachments": {},
   "cell_type": "markdown",
   "metadata": {},
   "source": [
    "Eu quero expressar a concentração da estação em Londres em mg/m.\n",
    "(Se assumirmos temperatura de 25 graus Celsius e pressão de 1013 hPa, o fator de conversão é 1,882)"
   ]
  },
  {
   "cell_type": "code",
   "execution_count": null,
   "metadata": {},
   "outputs": [],
   "source": [
    "air_quality = pd.read_csv(\"data/air_quality_no2.csv\", index_col=0, parse_dates=True)\n",
    "air_quality.head()"
   ]
  },
  {
   "attachments": {},
   "cell_type": "markdown",
   "metadata": {},
   "source": [
    "Para criar uma nova coluna, use os colchetes `[]` com o nome da nova coluna no lado esquerdo da atribuição.\n",
    "> O cálculo dos valores é feito elemento a elemento. Isso significa que todos os valores na coluna especificada são multiplicados pelo valor 1,882 de uma só vez. Você não precisa usar um loop para iterar cada uma das linhas!"
   ]
  },
  {
   "cell_type": "code",
   "execution_count": null,
   "metadata": {},
   "outputs": [],
   "source": [
    "air_quality[\"london_mg_per_cubic\"] = air_quality[\"station_london\"] * 1.882\n",
    "air_quality.head()"
   ]
  },
  {
   "attachments": {},
   "cell_type": "markdown",
   "metadata": {},
   "source": [
    "Desejo verificar a proporção dos valores em Paris versus Antuérpia e salvar o resultado em uma nova coluna.\n",
    "\n",
    "O cálculo é novamente por elemento, então o `/` é aplicado para os valores em cada linha.\n",
    "\n",
    "Outros operadores matemáticos (`+`, `-`, `*`, `/`,…) ou operadores lógicos (`<`, `>`, `==`,…) trabalham elemento a elemento. O último já foi usado no [tutorial de dados de subconjunto](https://pandas.pydata.org/docs/getting_started/intro_tutorials/03_subset_data.html#min-tut-03-subset) para filtrar linhas de uma tabela usando uma expressão condicional.\n",
    "\n",
    "Se precisar de uma lógica mais avançada, você pode usar código Python arbitrário via [`apply()`](https://pandas.pydata.org/docs/reference/api/pandas.DataFrame.apply.html#pandas.DataFrame.apply)."
   ]
  },
  {
   "cell_type": "code",
   "execution_count": null,
   "metadata": {},
   "outputs": [],
   "source": [
    "air_quality[\"ratio_paris_antwerp\"] = (\n",
    "    air_quality[\"station_paris\"] / air_quality[\"station_antwerp\"]\n",
    ")\n",
    "air_quality.head()"
   ]
  },
  {
   "attachments": {},
   "cell_type": "markdown",
   "metadata": {},
   "source": [
    "Desejo renomear as colunas de dados para os identificadores de estação correspondentes usados ​​pelo [OpenAQ](https://openaq.org/).\n",
    "\n",
    "A função `rename()` pode ser usada para rótulos de linha e rótulos de coluna. Forneça um dicionário com as chaves dos nomes atuais e os valores dos novos nomes para atualizar os nomes correspondentes."
   ]
  },
  {
   "cell_type": "code",
   "execution_count": null,
   "metadata": {},
   "outputs": [],
   "source": [
    "air_quality_renamed = air_quality.rename(\n",
    "    columns={\n",
    "        \"station_antwerp\": \"BETR801\",\n",
    "        \"station_paris\": \"FR04014\",\n",
    "        \"station_london\": \"London Westminster\",\n",
    "    }\n",
    ")\n",
    "air_quality_renamed.head()"
   ]
  },
  {
   "attachments": {},
   "cell_type": "markdown",
   "metadata": {},
   "source": [
    "O mapeamento não deve ser restrito apenas a nomes fixos, mas também pode ser uma função de mapeamento. Por exemplo, converter os nomes das colunas em letras minúsculas também pode ser feito usando uma função:"
   ]
  },
  {
   "cell_type": "code",
   "execution_count": null,
   "metadata": {},
   "outputs": [],
   "source": [
    "air_quality_renamed = air_quality_renamed.rename(columns=str.upper)\n",
    "air_quality_renamed.head()"
   ]
  },
  {
   "attachments": {},
   "cell_type": "markdown",
   "metadata": {},
   "source": [
    "> Detalhes sobre a renomeação de rótulos de coluna ou linha são fornecidos na seção do guia do usuário sobre [renomeação de rótulos](https://pandas.pydata.org/docs/user_guide/basics.html#basics-rename)."
   ]
  }
 ],
 "metadata": {
  "kernelspec": {
   "display_name": "venv_pandas",
   "language": "python",
   "name": "python3"
  },
  "language_info": {
   "codemirror_mode": {
    "name": "ipython",
    "version": 3
   },
   "file_extension": ".py",
   "mimetype": "text/x-python",
   "name": "python",
   "nbconvert_exporter": "python",
   "pygments_lexer": "ipython3",
   "version": "3.10.9"
  },
  "orig_nbformat": 4
 },
 "nbformat": 4,
 "nbformat_minor": 2
}
